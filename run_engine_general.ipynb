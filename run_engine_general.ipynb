{
 "cells": [
  {
   "cell_type": "code",
   "execution_count": 5,
   "metadata": {},
   "outputs": [],
   "source": [
    "from bluesky.run_engine import RunEngine\n",
    "import asyncio\n",
    "try:\n",
    "    from asyncio import current_task\n",
    "except ImportError:\n",
    "    # handle py < 3,7\n",
    "    from asyncio.tasks import Task\n",
    "    current_task = Task.current_task\n",
    "    del Task\n",
    "\n",
    "class RunEngineBessy(RunEngine):\n",
    "    \"\"\"\n",
    "    A run engine with an extra command that allows any method of an object to be called\n",
    "    \"\"\"    \n",
    "    def __init__(self, *args, **kwargs):\n",
    "        super().__init__(*args, **kwargs)\n",
    "\n",
    "        self.register_command(\"run_func\", self._run_func)\n",
    "\n",
    "    async def _run_func(self, msg):\n",
    "        \"\"\"\n",
    "        run a method of an object passing it args and kwargs, wait for it to complete\n",
    "\n",
    "        Expected message object is\n",
    "\n",
    "            Msg('run_func', obj, *args, **kwargs)\n",
    "\n",
    "        where arguments are passed through to `obj.<method_name>(*args, **kwargs)`.\n",
    "        \"\"\"\n",
    "        \n",
    "        method_name = msg.args[0]\n",
    "        args = msg.args[1:]\n",
    "        kwargs = dict(msg.kwargs)\n",
    "        group = kwargs.pop('group', None)\n",
    "        self._movable_objs_touched.add(msg.obj)\n",
    "\n",
    "        #find the method name\n",
    "        if hasattr(msg.obj, method_name):\n",
    "            method = getattr(msg.obj,method_name)\n",
    "            #check it's callable\n",
    "            if callable(method):\n",
    "                ret = method(args, **kwargs)\n",
    "\n",
    "                p_event = asyncio.Event(loop=self._loop_for_kwargs)\n",
    "                pardon_failures = self._pardon_failures\n",
    "\n",
    "                def done_callback(status=None):\n",
    "                    self.log.debug(\"The object %r reports set is done \"\n",
    "                                \"with status %r\", msg.obj, ret.success)\n",
    "                    self._loop.call_soon_threadsafe(\n",
    "                        self._status_object_completed, ret, p_event, pardon_failures)\n",
    "\n",
    "                try:\n",
    "                    ret.add_callback(done_callback)\n",
    "                except AttributeError:\n",
    "                    # for ophyd < v0.8.0\n",
    "                    ret.finished_cb = done_callback\n",
    "                self._groups[group].add(p_event.wait)\n",
    "                self._status_objs[group].add(ret)\n",
    "\n",
    "                return ret\n",
    "\n",
    "\n"
   ]
  },
  {
   "cell_type": "code",
   "execution_count": 6,
   "metadata": {},
   "outputs": [],
   "source": [
    "#create an instance of it\n",
    "RE = RunEngineBessy({})\n",
    "\n"
   ]
  },
  {
   "cell_type": "code",
   "execution_count": 10,
   "metadata": {},
   "outputs": [],
   "source": [
    "#make a test device with some method\n",
    "\n",
    "from ophyd.status import DeviceStatus\n",
    "from ophyd import Device\n",
    "import time\n",
    "\n",
    "class TestPrintDevice(Device):\n",
    "\n",
    "    def print_it(self, string):\n",
    "\n",
    "        sta = DeviceStatus(self)\n",
    "        print(string)\n",
    "\n",
    "        time.sleep(10)              #just to show that the \"wait\" Msg will wait\n",
    "        sta.set_finished()\n",
    "        return sta\n",
    "\n",
    "\n",
    "test_print_device = TestPrintDevice(name=\"test_print_device\")"
   ]
  },
  {
   "cell_type": "code",
   "execution_count": 11,
   "metadata": {},
   "outputs": [
    {
     "name": "stdout",
     "output_type": "stream",
     "text": [
      "('Hello World',)\n"
     ]
    },
    {
     "name": "stderr",
     "output_type": "stream",
     "text": [
      "/tmp/ipykernel_3014920/1184333743.py:44: DeprecationWarning: The loop argument is deprecated since Python 3.8, and scheduled for removal in Python 3.10.\n",
      "  p_event = asyncio.Event(loop=self._loop_for_kwargs)\n"
     ]
    },
    {
     "data": {
      "text/plain": [
       "('78576525-d87a-41d8-8ffe-d94ee3c79afe',)"
      ]
     },
     "execution_count": 11,
     "metadata": {},
     "output_type": "execute_result"
    }
   ],
   "source": [
    "#make the run engine call that method, waiting on it to complete\n",
    "from bluesky import Msg\n",
    "from bluesky.preprocessors import run_wrapper, ensure_generator\n",
    "\n",
    "plan = ensure_generator([Msg(\"run_func\",test_print_device,\"print_it\", \"Hello World\",group = 'test_group'),Msg(\"wait\",group=\"test_group\")])\n",
    "\n",
    "\n",
    "RE(run_wrapper(plan))"
   ]
  }
 ],
 "metadata": {
  "kernelspec": {
   "display_name": "venv_restore",
   "language": "python",
   "name": "python3"
  },
  "language_info": {
   "codemirror_mode": {
    "name": "ipython",
    "version": 3
   },
   "file_extension": ".py",
   "mimetype": "text/x-python",
   "name": "python",
   "nbconvert_exporter": "python",
   "pygments_lexer": "ipython3",
   "version": "3.8.10"
  },
  "orig_nbformat": 4,
  "vscode": {
   "interpreter": {
    "hash": "4e0f80b02e20c658fde9445a14782807cb14e76d5582641527080ed32fd9840c"
   }
  }
 },
 "nbformat": 4,
 "nbformat_minor": 2
}
